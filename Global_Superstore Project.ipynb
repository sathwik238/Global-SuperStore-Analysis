{
 "cells": [
  {
   "cell_type": "markdown",
   "metadata": {},
   "source": [
    "# GLOBAL SUPERSTORE PROJECT\n"
   ]
  },
  {
   "cell_type": "code",
   "execution_count": 28,
   "metadata": {},
   "outputs": [],
   "source": [
    "import numpy as np\n",
    "import pandas as pd\n",
    "from datetime import datetime"
   ]
  },
  {
   "cell_type": "code",
   "execution_count": 29,
   "metadata": {},
   "outputs": [
    {
     "data": {
      "text/html": [
       "<div>\n",
       "<style scoped>\n",
       "    .dataframe tbody tr th:only-of-type {\n",
       "        vertical-align: middle;\n",
       "    }\n",
       "\n",
       "    .dataframe tbody tr th {\n",
       "        vertical-align: top;\n",
       "    }\n",
       "\n",
       "    .dataframe thead th {\n",
       "        text-align: right;\n",
       "    }\n",
       "</style>\n",
       "<table border=\"1\" class=\"dataframe\">\n",
       "  <thead>\n",
       "    <tr style=\"text-align: right;\">\n",
       "      <th></th>\n",
       "      <th>Row ID</th>\n",
       "      <th>Order ID</th>\n",
       "      <th>Order Date</th>\n",
       "      <th>Ship Date</th>\n",
       "      <th>Ship Mode</th>\n",
       "      <th>Customer ID</th>\n",
       "      <th>Customer Name</th>\n",
       "      <th>Segment</th>\n",
       "      <th>Postal Code</th>\n",
       "      <th>City</th>\n",
       "      <th>...</th>\n",
       "      <th>Product ID</th>\n",
       "      <th>Category</th>\n",
       "      <th>Sub-Category</th>\n",
       "      <th>Product Name</th>\n",
       "      <th>Sales</th>\n",
       "      <th>Quantity</th>\n",
       "      <th>Discount</th>\n",
       "      <th>Profit</th>\n",
       "      <th>Shipping Cost</th>\n",
       "      <th>Order Priority</th>\n",
       "    </tr>\n",
       "  </thead>\n",
       "  <tbody>\n",
       "    <tr>\n",
       "      <th>0</th>\n",
       "      <td>40098</td>\n",
       "      <td>CA-2014-AB10015140-41954</td>\n",
       "      <td>11-11-2014</td>\n",
       "      <td>11/13/2014</td>\n",
       "      <td>First Class</td>\n",
       "      <td>AB-100151402</td>\n",
       "      <td>Aaron Bergman</td>\n",
       "      <td>Consumer</td>\n",
       "      <td>73120.0</td>\n",
       "      <td>Oklahoma City</td>\n",
       "      <td>...</td>\n",
       "      <td>TEC-PH-5816</td>\n",
       "      <td>Technology</td>\n",
       "      <td>Phones</td>\n",
       "      <td>Samsung Convoy 3</td>\n",
       "      <td>$221.98</td>\n",
       "      <td>2</td>\n",
       "      <td>0.0</td>\n",
       "      <td>$62.15</td>\n",
       "      <td>40.77</td>\n",
       "      <td>High</td>\n",
       "    </tr>\n",
       "    <tr>\n",
       "      <th>1</th>\n",
       "      <td>26341</td>\n",
       "      <td>IN-2014-JR162107-41675</td>\n",
       "      <td>02-05-2014</td>\n",
       "      <td>02-07-2014</td>\n",
       "      <td>Second Class</td>\n",
       "      <td>JR-162107</td>\n",
       "      <td>Justin Ritter</td>\n",
       "      <td>Corporate</td>\n",
       "      <td>NaN</td>\n",
       "      <td>Wollongong</td>\n",
       "      <td>...</td>\n",
       "      <td>FUR-CH-5379</td>\n",
       "      <td>Furniture</td>\n",
       "      <td>Chairs</td>\n",
       "      <td>Novimex Executive Leather Armchair, Black</td>\n",
       "      <td>$3,709.40</td>\n",
       "      <td>9</td>\n",
       "      <td>0.1</td>\n",
       "      <td>($288.77)</td>\n",
       "      <td>923.63</td>\n",
       "      <td>Critical</td>\n",
       "    </tr>\n",
       "    <tr>\n",
       "      <th>2</th>\n",
       "      <td>25330</td>\n",
       "      <td>IN-2014-CR127307-41929</td>\n",
       "      <td>10/17/2014</td>\n",
       "      <td>10/18/2014</td>\n",
       "      <td>First Class</td>\n",
       "      <td>CR-127307</td>\n",
       "      <td>Craig Reiter</td>\n",
       "      <td>Consumer</td>\n",
       "      <td>NaN</td>\n",
       "      <td>Brisbane</td>\n",
       "      <td>...</td>\n",
       "      <td>TEC-PH-5356</td>\n",
       "      <td>Technology</td>\n",
       "      <td>Phones</td>\n",
       "      <td>Nokia Smart Phone, with Caller ID</td>\n",
       "      <td>$5,175.17</td>\n",
       "      <td>9</td>\n",
       "      <td>0.1</td>\n",
       "      <td>$919.97</td>\n",
       "      <td>915.49</td>\n",
       "      <td>Medium</td>\n",
       "    </tr>\n",
       "    <tr>\n",
       "      <th>3</th>\n",
       "      <td>13524</td>\n",
       "      <td>ES-2014-KM1637548-41667</td>\n",
       "      <td>1/28/2014</td>\n",
       "      <td>1/30/2014</td>\n",
       "      <td>First Class</td>\n",
       "      <td>KM-1637548</td>\n",
       "      <td>Katherine Murray</td>\n",
       "      <td>Home Office</td>\n",
       "      <td>NaN</td>\n",
       "      <td>Berlin</td>\n",
       "      <td>...</td>\n",
       "      <td>TEC-PH-5267</td>\n",
       "      <td>Technology</td>\n",
       "      <td>Phones</td>\n",
       "      <td>Motorola Smart Phone, Cordless</td>\n",
       "      <td>$2,892.51</td>\n",
       "      <td>5</td>\n",
       "      <td>0.1</td>\n",
       "      <td>($96.54)</td>\n",
       "      <td>910.16</td>\n",
       "      <td>Medium</td>\n",
       "    </tr>\n",
       "    <tr>\n",
       "      <th>4</th>\n",
       "      <td>47221</td>\n",
       "      <td>SG-2014-RH9495111-41948</td>\n",
       "      <td>11-05-2014</td>\n",
       "      <td>11-06-2014</td>\n",
       "      <td>Same Day</td>\n",
       "      <td>RH-9495111</td>\n",
       "      <td>Rick Hansen</td>\n",
       "      <td>Consumer</td>\n",
       "      <td>NaN</td>\n",
       "      <td>Dakar</td>\n",
       "      <td>...</td>\n",
       "      <td>TEC-CO-6011</td>\n",
       "      <td>Technology</td>\n",
       "      <td>Copiers</td>\n",
       "      <td>Sharp Wireless Fax, High-Speed</td>\n",
       "      <td>$2,832.96</td>\n",
       "      <td>8</td>\n",
       "      <td>0.0</td>\n",
       "      <td>$311.52</td>\n",
       "      <td>903.04</td>\n",
       "      <td>Critical</td>\n",
       "    </tr>\n",
       "  </tbody>\n",
       "</table>\n",
       "<p>5 rows × 24 columns</p>\n",
       "</div>"
      ],
      "text/plain": [
       "   Row ID                  Order ID  Order Date   Ship Date     Ship Mode  \\\n",
       "0   40098  CA-2014-AB10015140-41954  11-11-2014  11/13/2014   First Class   \n",
       "1   26341    IN-2014-JR162107-41675  02-05-2014  02-07-2014  Second Class   \n",
       "2   25330    IN-2014-CR127307-41929  10/17/2014  10/18/2014   First Class   \n",
       "3   13524   ES-2014-KM1637548-41667   1/28/2014   1/30/2014   First Class   \n",
       "4   47221   SG-2014-RH9495111-41948  11-05-2014  11-06-2014      Same Day   \n",
       "\n",
       "    Customer ID     Customer Name      Segment  Postal Code           City  \\\n",
       "0  AB-100151402     Aaron Bergman     Consumer      73120.0  Oklahoma City   \n",
       "1     JR-162107     Justin Ritter    Corporate          NaN     Wollongong   \n",
       "2     CR-127307      Craig Reiter     Consumer          NaN       Brisbane   \n",
       "3    KM-1637548  Katherine Murray  Home Office          NaN         Berlin   \n",
       "4    RH-9495111       Rick Hansen     Consumer          NaN          Dakar   \n",
       "\n",
       "   ...   Product ID    Category Sub-Category  \\\n",
       "0  ...  TEC-PH-5816  Technology       Phones   \n",
       "1  ...  FUR-CH-5379   Furniture       Chairs   \n",
       "2  ...  TEC-PH-5356  Technology       Phones   \n",
       "3  ...  TEC-PH-5267  Technology       Phones   \n",
       "4  ...  TEC-CO-6011  Technology      Copiers   \n",
       "\n",
       "                                Product Name       Sales Quantity Discount  \\\n",
       "0                           Samsung Convoy 3    $221.98         2      0.0   \n",
       "1  Novimex Executive Leather Armchair, Black  $3,709.40         9      0.1   \n",
       "2          Nokia Smart Phone, with Caller ID  $5,175.17         9      0.1   \n",
       "3             Motorola Smart Phone, Cordless  $2,892.51         5      0.1   \n",
       "4             Sharp Wireless Fax, High-Speed  $2,832.96         8      0.0   \n",
       "\n",
       "      Profit Shipping Cost  Order Priority  \n",
       "0    $62.15          40.77            High  \n",
       "1  ($288.77)        923.63        Critical  \n",
       "2   $919.97         915.49          Medium  \n",
       "3   ($96.54)        910.16          Medium  \n",
       "4   $311.52         903.04        Critical  \n",
       "\n",
       "[5 rows x 24 columns]"
      ]
     },
     "execution_count": 29,
     "metadata": {},
     "output_type": "execute_result"
    }
   ],
   "source": [
    "store=pd.read_csv(\"global_superstore_2016.csv\",encoding=\"latin\")\n",
    "store.head()"
   ]
  },
  {
   "cell_type": "code",
   "execution_count": 30,
   "metadata": {},
   "outputs": [
    {
     "data": {
      "text/plain": [
       "(51290, 24)"
      ]
     },
     "execution_count": 30,
     "metadata": {},
     "output_type": "execute_result"
    }
   ],
   "source": [
    "store.shape"
   ]
  },
  {
   "cell_type": "code",
   "execution_count": 31,
   "metadata": {},
   "outputs": [
    {
     "name": "stdout",
     "output_type": "stream",
     "text": [
      "<class 'pandas.core.frame.DataFrame'>\n",
      "RangeIndex: 51290 entries, 0 to 51289\n",
      "Data columns (total 24 columns):\n",
      " #   Column          Non-Null Count  Dtype  \n",
      "---  ------          --------------  -----  \n",
      " 0   Row ID          51290 non-null  int64  \n",
      " 1   Order ID        51290 non-null  object \n",
      " 2   Order Date      51290 non-null  object \n",
      " 3   Ship Date       51290 non-null  object \n",
      " 4   Ship Mode       51290 non-null  object \n",
      " 5   Customer ID     51290 non-null  object \n",
      " 6   Customer Name   51290 non-null  object \n",
      " 7   Segment         51290 non-null  object \n",
      " 8   Postal Code     9994 non-null   float64\n",
      " 9   City            51290 non-null  object \n",
      " 10  State           51290 non-null  object \n",
      " 11  Country         51290 non-null  object \n",
      " 12  Region          51290 non-null  object \n",
      " 13  Market          51290 non-null  object \n",
      " 14  Product ID      51290 non-null  object \n",
      " 15  Category        51290 non-null  object \n",
      " 16  Sub-Category    51290 non-null  object \n",
      " 17  Product Name    51290 non-null  object \n",
      " 18  Sales           51290 non-null  object \n",
      " 19  Quantity        51290 non-null  int64  \n",
      " 20  Discount        51290 non-null  float64\n",
      " 21  Profit          51290 non-null  object \n",
      " 22  Shipping Cost   51290 non-null  float64\n",
      " 23  Order Priority  51290 non-null  object \n",
      "dtypes: float64(3), int64(2), object(19)\n",
      "memory usage: 9.4+ MB\n"
     ]
    }
   ],
   "source": [
    "store.info()"
   ]
  },
  {
   "cell_type": "code",
   "execution_count": 32,
   "metadata": {},
   "outputs": [
    {
     "data": {
      "text/html": [
       "<div>\n",
       "<style scoped>\n",
       "    .dataframe tbody tr th:only-of-type {\n",
       "        vertical-align: middle;\n",
       "    }\n",
       "\n",
       "    .dataframe tbody tr th {\n",
       "        vertical-align: top;\n",
       "    }\n",
       "\n",
       "    .dataframe thead th {\n",
       "        text-align: right;\n",
       "    }\n",
       "</style>\n",
       "<table border=\"1\" class=\"dataframe\">\n",
       "  <thead>\n",
       "    <tr style=\"text-align: right;\">\n",
       "      <th></th>\n",
       "      <th>Row ID</th>\n",
       "      <th>Postal Code</th>\n",
       "      <th>Quantity</th>\n",
       "      <th>Discount</th>\n",
       "      <th>Shipping Cost</th>\n",
       "    </tr>\n",
       "  </thead>\n",
       "  <tbody>\n",
       "    <tr>\n",
       "      <th>count</th>\n",
       "      <td>51290.00000</td>\n",
       "      <td>9994.000000</td>\n",
       "      <td>51290.000000</td>\n",
       "      <td>51290.000000</td>\n",
       "      <td>51290.000000</td>\n",
       "    </tr>\n",
       "    <tr>\n",
       "      <th>mean</th>\n",
       "      <td>25645.50000</td>\n",
       "      <td>55190.379428</td>\n",
       "      <td>3.476545</td>\n",
       "      <td>0.142908</td>\n",
       "      <td>26.478567</td>\n",
       "    </tr>\n",
       "    <tr>\n",
       "      <th>std</th>\n",
       "      <td>14806.29199</td>\n",
       "      <td>32063.693350</td>\n",
       "      <td>2.278766</td>\n",
       "      <td>0.212280</td>\n",
       "      <td>57.251373</td>\n",
       "    </tr>\n",
       "    <tr>\n",
       "      <th>min</th>\n",
       "      <td>1.00000</td>\n",
       "      <td>1040.000000</td>\n",
       "      <td>1.000000</td>\n",
       "      <td>0.000000</td>\n",
       "      <td>1.002000</td>\n",
       "    </tr>\n",
       "    <tr>\n",
       "      <th>25%</th>\n",
       "      <td>12823.25000</td>\n",
       "      <td>23223.000000</td>\n",
       "      <td>2.000000</td>\n",
       "      <td>0.000000</td>\n",
       "      <td>2.610000</td>\n",
       "    </tr>\n",
       "    <tr>\n",
       "      <th>50%</th>\n",
       "      <td>25645.50000</td>\n",
       "      <td>56430.500000</td>\n",
       "      <td>3.000000</td>\n",
       "      <td>0.000000</td>\n",
       "      <td>7.790000</td>\n",
       "    </tr>\n",
       "    <tr>\n",
       "      <th>75%</th>\n",
       "      <td>38467.75000</td>\n",
       "      <td>90008.000000</td>\n",
       "      <td>5.000000</td>\n",
       "      <td>0.200000</td>\n",
       "      <td>24.450000</td>\n",
       "    </tr>\n",
       "    <tr>\n",
       "      <th>max</th>\n",
       "      <td>51290.00000</td>\n",
       "      <td>99301.000000</td>\n",
       "      <td>14.000000</td>\n",
       "      <td>0.850000</td>\n",
       "      <td>933.570000</td>\n",
       "    </tr>\n",
       "  </tbody>\n",
       "</table>\n",
       "</div>"
      ],
      "text/plain": [
       "            Row ID   Postal Code      Quantity      Discount  Shipping Cost\n",
       "count  51290.00000   9994.000000  51290.000000  51290.000000   51290.000000\n",
       "mean   25645.50000  55190.379428      3.476545      0.142908      26.478567\n",
       "std    14806.29199  32063.693350      2.278766      0.212280      57.251373\n",
       "min        1.00000   1040.000000      1.000000      0.000000       1.002000\n",
       "25%    12823.25000  23223.000000      2.000000      0.000000       2.610000\n",
       "50%    25645.50000  56430.500000      3.000000      0.000000       7.790000\n",
       "75%    38467.75000  90008.000000      5.000000      0.200000      24.450000\n",
       "max    51290.00000  99301.000000     14.000000      0.850000     933.570000"
      ]
     },
     "execution_count": 32,
     "metadata": {},
     "output_type": "execute_result"
    }
   ],
   "source": [
    "store.describe()"
   ]
  },
  {
   "cell_type": "code",
   "execution_count": 33,
   "metadata": {},
   "outputs": [],
   "source": [
    "order_date=store[\"Order Date\"].to_list()"
   ]
  },
  {
   "cell_type": "code",
   "execution_count": 34,
   "metadata": {},
   "outputs": [
    {
     "data": {
      "text/plain": [
       "DatetimeIndex(['2014-11-11', '2014-02-05', '2014-10-17', '2014-01-28',\n",
       "               '2014-11-05', '2014-06-28', '2012-11-06', '2013-04-14',\n",
       "               '2014-11-11', '2012-03-06',\n",
       "               ...\n",
       "               '2014-07-09', '2015-06-09', '2015-08-05', '2015-05-30',\n",
       "               '2013-12-28', '2015-06-19', '2014-05-06', '2012-08-26',\n",
       "               '2013-02-17', '2013-05-22'],\n",
       "              dtype='datetime64[ns]', length=51290, freq=None)"
      ]
     },
     "execution_count": 34,
     "metadata": {},
     "output_type": "execute_result"
    }
   ],
   "source": [
    "order_datetime=pd.to_datetime(order_date)\n",
    "order_datetime"
   ]
  },
  {
   "cell_type": "code",
   "execution_count": 35,
   "metadata": {},
   "outputs": [],
   "source": [
    "ship_date=store[\"Ship Date\"].to_list()"
   ]
  },
  {
   "cell_type": "code",
   "execution_count": 36,
   "metadata": {},
   "outputs": [
    {
     "data": {
      "text/plain": [
       "DatetimeIndex(['2014-11-13', '2014-02-07', '2014-10-18', '2014-01-30',\n",
       "               '2014-11-06', '2014-07-01', '2012-11-08', '2013-04-18',\n",
       "               '2014-11-13', '2012-03-07',\n",
       "               ...\n",
       "               '2014-07-09', '2015-06-11', '2015-08-10', '2015-05-30',\n",
       "               '2013-12-31', '2015-06-19', '2014-05-10', '2012-08-31',\n",
       "               '2013-02-21', '2013-05-26'],\n",
       "              dtype='datetime64[ns]', length=51290, freq=None)"
      ]
     },
     "execution_count": 36,
     "metadata": {},
     "output_type": "execute_result"
    }
   ],
   "source": [
    "ship_datetime=pd.to_datetime(ship_date)\n",
    "ship_datetime"
   ]
  },
  {
   "cell_type": "code",
   "execution_count": 37,
   "metadata": {},
   "outputs": [],
   "source": [
    "Order_date=pd.Series(order_datetime,name=\"Order_Date\")\n",
    "Ship_date=pd.Series(ship_datetime,name=\"Ship_Date\")"
   ]
  },
  {
   "cell_type": "code",
   "execution_count": 38,
   "metadata": {},
   "outputs": [
    {
     "data": {
      "text/plain": [
       "array(['Row ID', 'Order ID', 'Order Date', 'Ship Date', 'Ship Mode',\n",
       "       'Customer ID', 'Customer Name', 'Segment', 'Postal Code', 'City',\n",
       "       'State', 'Country', 'Region', 'Market', 'Product ID', 'Category',\n",
       "       'Sub-Category', 'Product Name', 'Sales', 'Quantity', 'Discount',\n",
       "       'Profit', 'Shipping Cost', 'Order Priority'], dtype=object)"
      ]
     },
     "execution_count": 38,
     "metadata": {},
     "output_type": "execute_result"
    }
   ],
   "source": [
    "store.columns.values"
   ]
  },
  {
   "cell_type": "code",
   "execution_count": 39,
   "metadata": {},
   "outputs": [],
   "source": [
    "store.drop(columns=[\"Row ID\",\"Order Date\",\"Ship Date\",\"Customer ID\",\"Postal Code\"],inplace=True)"
   ]
  },
  {
   "cell_type": "code",
   "execution_count": 41,
   "metadata": {},
   "outputs": [
    {
     "data": {
      "text/html": [
       "<div>\n",
       "<style scoped>\n",
       "    .dataframe tbody tr th:only-of-type {\n",
       "        vertical-align: middle;\n",
       "    }\n",
       "\n",
       "    .dataframe tbody tr th {\n",
       "        vertical-align: top;\n",
       "    }\n",
       "\n",
       "    .dataframe thead th {\n",
       "        text-align: right;\n",
       "    }\n",
       "</style>\n",
       "<table border=\"1\" class=\"dataframe\">\n",
       "  <thead>\n",
       "    <tr style=\"text-align: right;\">\n",
       "      <th></th>\n",
       "      <th>Order ID</th>\n",
       "      <th>Ship Mode</th>\n",
       "      <th>Customer Name</th>\n",
       "      <th>Segment</th>\n",
       "      <th>City</th>\n",
       "      <th>State</th>\n",
       "      <th>Country</th>\n",
       "      <th>Region</th>\n",
       "      <th>Market</th>\n",
       "      <th>Product ID</th>\n",
       "      <th>Category</th>\n",
       "      <th>Sub-Category</th>\n",
       "      <th>Product Name</th>\n",
       "      <th>Sales</th>\n",
       "      <th>Quantity</th>\n",
       "      <th>Discount</th>\n",
       "      <th>Profit</th>\n",
       "      <th>Shipping Cost</th>\n",
       "      <th>Order Priority</th>\n",
       "    </tr>\n",
       "  </thead>\n",
       "  <tbody>\n",
       "    <tr>\n",
       "      <th>0</th>\n",
       "      <td>CA-2014-AB10015140-41954</td>\n",
       "      <td>First Class</td>\n",
       "      <td>Aaron Bergman</td>\n",
       "      <td>Consumer</td>\n",
       "      <td>Oklahoma City</td>\n",
       "      <td>Oklahoma</td>\n",
       "      <td>United States</td>\n",
       "      <td>Central US</td>\n",
       "      <td>USCA</td>\n",
       "      <td>TEC-PH-5816</td>\n",
       "      <td>Technology</td>\n",
       "      <td>Phones</td>\n",
       "      <td>Samsung Convoy 3</td>\n",
       "      <td>$221.98</td>\n",
       "      <td>2</td>\n",
       "      <td>0.0</td>\n",
       "      <td>$62.15</td>\n",
       "      <td>40.77</td>\n",
       "      <td>High</td>\n",
       "    </tr>\n",
       "    <tr>\n",
       "      <th>1</th>\n",
       "      <td>IN-2014-JR162107-41675</td>\n",
       "      <td>Second Class</td>\n",
       "      <td>Justin Ritter</td>\n",
       "      <td>Corporate</td>\n",
       "      <td>Wollongong</td>\n",
       "      <td>New South Wales</td>\n",
       "      <td>Australia</td>\n",
       "      <td>Oceania</td>\n",
       "      <td>Asia Pacific</td>\n",
       "      <td>FUR-CH-5379</td>\n",
       "      <td>Furniture</td>\n",
       "      <td>Chairs</td>\n",
       "      <td>Novimex Executive Leather Armchair, Black</td>\n",
       "      <td>$3,709.40</td>\n",
       "      <td>9</td>\n",
       "      <td>0.1</td>\n",
       "      <td>($288.77)</td>\n",
       "      <td>923.63</td>\n",
       "      <td>Critical</td>\n",
       "    </tr>\n",
       "  </tbody>\n",
       "</table>\n",
       "</div>"
      ],
      "text/plain": [
       "                   Order ID     Ship Mode  Customer Name    Segment  \\\n",
       "0  CA-2014-AB10015140-41954   First Class  Aaron Bergman   Consumer   \n",
       "1    IN-2014-JR162107-41675  Second Class  Justin Ritter  Corporate   \n",
       "\n",
       "            City            State        Country      Region        Market  \\\n",
       "0  Oklahoma City         Oklahoma  United States  Central US          USCA   \n",
       "1     Wollongong  New South Wales      Australia     Oceania  Asia Pacific   \n",
       "\n",
       "    Product ID    Category Sub-Category  \\\n",
       "0  TEC-PH-5816  Technology       Phones   \n",
       "1  FUR-CH-5379   Furniture       Chairs   \n",
       "\n",
       "                                Product Name       Sales  Quantity  Discount  \\\n",
       "0                           Samsung Convoy 3    $221.98          2       0.0   \n",
       "1  Novimex Executive Leather Armchair, Black  $3,709.40          9       0.1   \n",
       "\n",
       "      Profit  Shipping Cost Order Priority  \n",
       "0    $62.15           40.77           High  \n",
       "1  ($288.77)         923.63       Critical  "
      ]
     },
     "execution_count": 41,
     "metadata": {},
     "output_type": "execute_result"
    }
   ],
   "source": [
    "store.head(2)"
   ]
  },
  {
   "cell_type": "code",
   "execution_count": 48,
   "metadata": {},
   "outputs": [
    {
     "data": {
      "text/html": [
       "<div>\n",
       "<style scoped>\n",
       "    .dataframe tbody tr th:only-of-type {\n",
       "        vertical-align: middle;\n",
       "    }\n",
       "\n",
       "    .dataframe tbody tr th {\n",
       "        vertical-align: top;\n",
       "    }\n",
       "\n",
       "    .dataframe thead th {\n",
       "        text-align: right;\n",
       "    }\n",
       "</style>\n",
       "<table border=\"1\" class=\"dataframe\">\n",
       "  <thead>\n",
       "    <tr style=\"text-align: right;\">\n",
       "      <th></th>\n",
       "      <th>Order ID</th>\n",
       "      <th>Ship Mode</th>\n",
       "      <th>Customer Name</th>\n",
       "      <th>Segment</th>\n",
       "      <th>City</th>\n",
       "      <th>State</th>\n",
       "      <th>Country</th>\n",
       "      <th>Region</th>\n",
       "      <th>Market</th>\n",
       "      <th>Product ID</th>\n",
       "      <th>...</th>\n",
       "      <th>Sub-Category</th>\n",
       "      <th>Product Name</th>\n",
       "      <th>Sales</th>\n",
       "      <th>Quantity</th>\n",
       "      <th>Discount</th>\n",
       "      <th>Profit</th>\n",
       "      <th>Shipping Cost</th>\n",
       "      <th>Order Priority</th>\n",
       "      <th>Order_Date</th>\n",
       "      <th>Ship_Date</th>\n",
       "    </tr>\n",
       "  </thead>\n",
       "  <tbody>\n",
       "    <tr>\n",
       "      <th>0</th>\n",
       "      <td>CA-2014-AB10015140-41954</td>\n",
       "      <td>First Class</td>\n",
       "      <td>Aaron Bergman</td>\n",
       "      <td>Consumer</td>\n",
       "      <td>Oklahoma City</td>\n",
       "      <td>Oklahoma</td>\n",
       "      <td>United States</td>\n",
       "      <td>Central US</td>\n",
       "      <td>USCA</td>\n",
       "      <td>TEC-PH-5816</td>\n",
       "      <td>...</td>\n",
       "      <td>Phones</td>\n",
       "      <td>Samsung Convoy 3</td>\n",
       "      <td>$221.98</td>\n",
       "      <td>2</td>\n",
       "      <td>0.0</td>\n",
       "      <td>$62.15</td>\n",
       "      <td>40.77</td>\n",
       "      <td>High</td>\n",
       "      <td>2014-11-11</td>\n",
       "      <td>2014-11-13</td>\n",
       "    </tr>\n",
       "  </tbody>\n",
       "</table>\n",
       "<p>1 rows × 21 columns</p>\n",
       "</div>"
      ],
      "text/plain": [
       "                   Order ID    Ship Mode  Customer Name   Segment  \\\n",
       "0  CA-2014-AB10015140-41954  First Class  Aaron Bergman  Consumer   \n",
       "\n",
       "            City     State        Country      Region Market   Product ID  \\\n",
       "0  Oklahoma City  Oklahoma  United States  Central US   USCA  TEC-PH-5816   \n",
       "\n",
       "   ... Sub-Category      Product Name     Sales Quantity  Discount   Profit  \\\n",
       "0  ...       Phones  Samsung Convoy 3  $221.98         2       0.0  $62.15    \n",
       "\n",
       "  Shipping Cost  Order Priority Order_Date  Ship_Date  \n",
       "0         40.77            High 2014-11-11 2014-11-13  \n",
       "\n",
       "[1 rows x 21 columns]"
      ]
     },
     "execution_count": 48,
     "metadata": {},
     "output_type": "execute_result"
    }
   ],
   "source": [
    "global_store=pd.concat([store,Order_date,Ship_date],axis=1)\n",
    "global_store.head(1)"
   ]
  },
  {
   "cell_type": "code",
   "execution_count": 50,
   "metadata": {},
   "outputs": [
    {
     "data": {
      "text/html": [
       "<div>\n",
       "<style scoped>\n",
       "    .dataframe tbody tr th:only-of-type {\n",
       "        vertical-align: middle;\n",
       "    }\n",
       "\n",
       "    .dataframe tbody tr th {\n",
       "        vertical-align: top;\n",
       "    }\n",
       "\n",
       "    .dataframe thead th {\n",
       "        text-align: right;\n",
       "    }\n",
       "</style>\n",
       "<table border=\"1\" class=\"dataframe\">\n",
       "  <thead>\n",
       "    <tr style=\"text-align: right;\">\n",
       "      <th></th>\n",
       "      <th>Order ID</th>\n",
       "      <th>Order_Date</th>\n",
       "      <th>Ship_Date</th>\n",
       "      <th>Ship Mode</th>\n",
       "      <th>Customer Name</th>\n",
       "      <th>Segment</th>\n",
       "      <th>Pastal Code</th>\n",
       "      <th>City</th>\n",
       "      <th>State</th>\n",
       "      <th>Country</th>\n",
       "      <th>...</th>\n",
       "      <th>Product ID</th>\n",
       "      <th>Category</th>\n",
       "      <th>Sub-Category</th>\n",
       "      <th>Product Name</th>\n",
       "      <th>Sales</th>\n",
       "      <th>Quantity</th>\n",
       "      <th>Discount</th>\n",
       "      <th>Profit</th>\n",
       "      <th>Shipping Cost</th>\n",
       "      <th>Order Priority</th>\n",
       "    </tr>\n",
       "  </thead>\n",
       "  <tbody>\n",
       "    <tr>\n",
       "      <th>0</th>\n",
       "      <td>CA-2014-AB10015140-41954</td>\n",
       "      <td>2014-11-11</td>\n",
       "      <td>2014-11-13</td>\n",
       "      <td>First Class</td>\n",
       "      <td>Aaron Bergman</td>\n",
       "      <td>Consumer</td>\n",
       "      <td>NaN</td>\n",
       "      <td>Oklahoma City</td>\n",
       "      <td>Oklahoma</td>\n",
       "      <td>United States</td>\n",
       "      <td>...</td>\n",
       "      <td>TEC-PH-5816</td>\n",
       "      <td>Technology</td>\n",
       "      <td>Phones</td>\n",
       "      <td>Samsung Convoy 3</td>\n",
       "      <td>$221.98</td>\n",
       "      <td>2</td>\n",
       "      <td>0.0</td>\n",
       "      <td>$62.15</td>\n",
       "      <td>40.77</td>\n",
       "      <td>High</td>\n",
       "    </tr>\n",
       "  </tbody>\n",
       "</table>\n",
       "<p>1 rows × 22 columns</p>\n",
       "</div>"
      ],
      "text/plain": [
       "                   Order ID Order_Date  Ship_Date    Ship Mode  Customer Name  \\\n",
       "0  CA-2014-AB10015140-41954 2014-11-11 2014-11-13  First Class  Aaron Bergman   \n",
       "\n",
       "    Segment  Pastal Code           City     State        Country  ...  \\\n",
       "0  Consumer          NaN  Oklahoma City  Oklahoma  United States  ...   \n",
       "\n",
       "    Product ID    Category Sub-Category      Product Name     Sales Quantity  \\\n",
       "0  TEC-PH-5816  Technology       Phones  Samsung Convoy 3  $221.98         2   \n",
       "\n",
       "  Discount   Profit  Shipping Cost Order Priority  \n",
       "0      0.0  $62.15           40.77           High  \n",
       "\n",
       "[1 rows x 22 columns]"
      ]
     },
     "execution_count": 50,
     "metadata": {},
     "output_type": "execute_result"
    }
   ],
   "source": [
    "global_store=global_store.reindex(columns=[\"Order ID\",\"Order_Date\",\"Ship_Date\",\"Ship Mode\",\"Customer Name\",\"Segment\",\"Pastal Code\",\"City\",\"State\",\"Country\",\"Region\",\"Market\",\"Product ID\",\"Category\",\"Sub-Category\",\"Product Name\",\"Sales\",\"Quantity\",\"Discount\",\"Profit\",\"Shipping Cost\",\"Order Priority\"])\n",
    "global_store.head(1)"
   ]
  },
  {
   "cell_type": "code",
   "execution_count": 51,
   "metadata": {},
   "outputs": [
    {
     "data": {
      "text/plain": [
       "0     40\n",
       "1    923\n",
       "2    915\n",
       "3    910\n",
       "4    903\n",
       "5    897\n",
       "6    894\n",
       "7    878\n",
       "8     25\n",
       "9     11\n",
       "Name: Shipping Cost, dtype: int32"
      ]
     },
     "execution_count": 51,
     "metadata": {},
     "output_type": "execute_result"
    }
   ],
   "source": [
    "global_store[\"Shipping Cost\"].astype(int)[:10]"
   ]
  },
  {
   "cell_type": "code",
   "execution_count": 52,
   "metadata": {},
   "outputs": [
    {
     "name": "stdout",
     "output_type": "stream",
     "text": [
      "Sales contains $\n"
     ]
    }
   ],
   "source": [
    "if global_store[\"Sales\"].str.contains(\"$\").any():\n",
    "    print(\"Sales contains $\")"
   ]
  },
  {
   "cell_type": "code",
   "execution_count": 53,
   "metadata": {},
   "outputs": [
    {
     "name": "stdout",
     "output_type": "stream",
     "text": [
      "Profit contains $\n"
     ]
    }
   ],
   "source": [
    "if global_store[\"Profit\"].str.contains(\"$\").any():\n",
    "    print(\"Profit contains $\")"
   ]
  },
  {
   "cell_type": "code",
   "execution_count": 56,
   "metadata": {},
   "outputs": [
    {
     "data": {
      "text/plain": [
       "0     221.98 \n",
       "1    3709.40 \n",
       "2    5175.17 \n",
       "3    2892.51 \n",
       "4    2832.96 \n",
       "Name: Sales, dtype: object"
      ]
     },
     "execution_count": 56,
     "metadata": {},
     "output_type": "execute_result"
    }
   ],
   "source": [
    "global_store[\"Sales\"]=global_store[\"Sales\"].str.replace(\"$\",'',regex=True)\n",
    "global_store[\"Sales\"]=global_store[\"Sales\"].str.replace(\"(\",'',regex=True)\n",
    "global_store[\"Sales\"]=global_store[\"Sales\"].str.replace(\")\",'',regex=True)\n",
    "global_store[\"Sales\"]=global_store[\"Sales\"].str.replace(\",\",'',regex=True)\n",
    "global_store[\"Sales\"][:5]"
   ]
  },
  {
   "cell_type": "code",
   "execution_count": 59,
   "metadata": {},
   "outputs": [
    {
     "data": {
      "text/plain": [
       "0     62.15 \n",
       "1     288.77\n",
       "2    919.97 \n",
       "3      96.54\n",
       "4    311.52 \n",
       "Name: Profit, dtype: object"
      ]
     },
     "execution_count": 59,
     "metadata": {},
     "output_type": "execute_result"
    }
   ],
   "source": [
    "global_store[\"Profit\"]=global_store[\"Profit\"].str.replace(\"$\",'',regex=True)\n",
    "global_store[\"Profit\"]=global_store[\"Profit\"].str.replace(\"(\",'',regex=True)\n",
    "global_store[\"Profit\"]=global_store[\"Profit\"].str.replace(\")\",'',regex=True)\n",
    "global_store[\"Profit\"]=global_store[\"Profit\"].str.replace(\",\",'',regex=True)\n",
    "global_store[\"Profit\"][:5]"
   ]
  },
  {
   "cell_type": "code",
   "execution_count": 60,
   "metadata": {},
   "outputs": [
    {
     "data": {
      "text/plain": [
       "0     62.15\n",
       "1    288.77\n",
       "2    919.97\n",
       "3     96.54\n",
       "4    311.52\n",
       "Name: Profit, dtype: float64"
      ]
     },
     "execution_count": 60,
     "metadata": {},
     "output_type": "execute_result"
    }
   ],
   "source": [
    "global_store[\"Profit\"]=pd.to_numeric(global_store[\"Profit\"],downcast=\"signed\")\n",
    "global_store[\"Profit\"][:5]"
   ]
  },
  {
   "cell_type": "code",
   "execution_count": 61,
   "metadata": {},
   "outputs": [
    {
     "data": {
      "text/plain": [
       "0     221.98\n",
       "1    3709.40\n",
       "2    5175.17\n",
       "3    2892.51\n",
       "4    2832.96\n",
       "Name: Sales, dtype: float64"
      ]
     },
     "execution_count": 61,
     "metadata": {},
     "output_type": "execute_result"
    }
   ],
   "source": [
    "global_store[\"Sales\"]=pd.to_numeric(global_store[\"Sales\"],downcast=\"signed\")\n",
    "global_store[\"Sales\"][:5]"
   ]
  },
  {
   "cell_type": "code",
   "execution_count": 63,
   "metadata": {},
   "outputs": [
    {
     "data": {
      "text/plain": [
       "0     62\n",
       "1    288\n",
       "2    919\n",
       "3     96\n",
       "4    311\n",
       "Name: Profit, dtype: int32"
      ]
     },
     "execution_count": 63,
     "metadata": {},
     "output_type": "execute_result"
    }
   ],
   "source": [
    "global_store[\"Sales\"]=global_store[\"Sales\"].astype(int)\n",
    "global_store[\"Profit\"]=global_store[\"Profit\"].astype(int)\n",
    "global_store[\"Profit\"][:5]"
   ]
  },
  {
   "cell_type": "code",
   "execution_count": 65,
   "metadata": {},
   "outputs": [
    {
     "data": {
      "text/html": [
       "<div>\n",
       "<style scoped>\n",
       "    .dataframe tbody tr th:only-of-type {\n",
       "        vertical-align: middle;\n",
       "    }\n",
       "\n",
       "    .dataframe tbody tr th {\n",
       "        vertical-align: top;\n",
       "    }\n",
       "\n",
       "    .dataframe thead th {\n",
       "        text-align: right;\n",
       "    }\n",
       "</style>\n",
       "<table border=\"1\" class=\"dataframe\">\n",
       "  <thead>\n",
       "    <tr style=\"text-align: right;\">\n",
       "      <th></th>\n",
       "      <th>Order ID</th>\n",
       "      <th>Order_Date</th>\n",
       "      <th>Ship_Date</th>\n",
       "      <th>Ship Mode</th>\n",
       "      <th>Customer Name</th>\n",
       "      <th>Segment</th>\n",
       "      <th>Pastal Code</th>\n",
       "      <th>City</th>\n",
       "      <th>State</th>\n",
       "      <th>Country</th>\n",
       "      <th>...</th>\n",
       "      <th>Product ID</th>\n",
       "      <th>Category</th>\n",
       "      <th>Sub-Category</th>\n",
       "      <th>Product Name</th>\n",
       "      <th>Sales</th>\n",
       "      <th>Quantity</th>\n",
       "      <th>Discount</th>\n",
       "      <th>Profit</th>\n",
       "      <th>Shipping Cost</th>\n",
       "      <th>Order Priority</th>\n",
       "    </tr>\n",
       "  </thead>\n",
       "  <tbody>\n",
       "    <tr>\n",
       "      <th>0</th>\n",
       "      <td>CA-2014-AB10015140-41954</td>\n",
       "      <td>2014-11-11</td>\n",
       "      <td>2014-11-13</td>\n",
       "      <td>First Class</td>\n",
       "      <td>Aaron Bergman</td>\n",
       "      <td>Consumer</td>\n",
       "      <td>NaN</td>\n",
       "      <td>Oklahoma City</td>\n",
       "      <td>Oklahoma</td>\n",
       "      <td>United States</td>\n",
       "      <td>...</td>\n",
       "      <td>TEC-PH-5816</td>\n",
       "      <td>Technology</td>\n",
       "      <td>Phones</td>\n",
       "      <td>Samsung Convoy 3</td>\n",
       "      <td>221</td>\n",
       "      <td>2</td>\n",
       "      <td>0.0</td>\n",
       "      <td>62</td>\n",
       "      <td>40.77</td>\n",
       "      <td>High</td>\n",
       "    </tr>\n",
       "    <tr>\n",
       "      <th>1</th>\n",
       "      <td>IN-2014-JR162107-41675</td>\n",
       "      <td>2014-02-05</td>\n",
       "      <td>2014-02-07</td>\n",
       "      <td>Second Class</td>\n",
       "      <td>Justin Ritter</td>\n",
       "      <td>Corporate</td>\n",
       "      <td>NaN</td>\n",
       "      <td>Wollongong</td>\n",
       "      <td>New South Wales</td>\n",
       "      <td>Australia</td>\n",
       "      <td>...</td>\n",
       "      <td>FUR-CH-5379</td>\n",
       "      <td>Furniture</td>\n",
       "      <td>Chairs</td>\n",
       "      <td>Novimex Executive Leather Armchair, Black</td>\n",
       "      <td>3709</td>\n",
       "      <td>9</td>\n",
       "      <td>0.1</td>\n",
       "      <td>288</td>\n",
       "      <td>923.63</td>\n",
       "      <td>Critical</td>\n",
       "    </tr>\n",
       "    <tr>\n",
       "      <th>2</th>\n",
       "      <td>IN-2014-CR127307-41929</td>\n",
       "      <td>2014-10-17</td>\n",
       "      <td>2014-10-18</td>\n",
       "      <td>First Class</td>\n",
       "      <td>Craig Reiter</td>\n",
       "      <td>Consumer</td>\n",
       "      <td>NaN</td>\n",
       "      <td>Brisbane</td>\n",
       "      <td>Queensland</td>\n",
       "      <td>Australia</td>\n",
       "      <td>...</td>\n",
       "      <td>TEC-PH-5356</td>\n",
       "      <td>Technology</td>\n",
       "      <td>Phones</td>\n",
       "      <td>Nokia Smart Phone, with Caller ID</td>\n",
       "      <td>5175</td>\n",
       "      <td>9</td>\n",
       "      <td>0.1</td>\n",
       "      <td>919</td>\n",
       "      <td>915.49</td>\n",
       "      <td>Medium</td>\n",
       "    </tr>\n",
       "  </tbody>\n",
       "</table>\n",
       "<p>3 rows × 22 columns</p>\n",
       "</div>"
      ],
      "text/plain": [
       "                   Order ID Order_Date  Ship_Date     Ship Mode  \\\n",
       "0  CA-2014-AB10015140-41954 2014-11-11 2014-11-13   First Class   \n",
       "1    IN-2014-JR162107-41675 2014-02-05 2014-02-07  Second Class   \n",
       "2    IN-2014-CR127307-41929 2014-10-17 2014-10-18   First Class   \n",
       "\n",
       "   Customer Name    Segment  Pastal Code           City            State  \\\n",
       "0  Aaron Bergman   Consumer          NaN  Oklahoma City         Oklahoma   \n",
       "1  Justin Ritter  Corporate          NaN     Wollongong  New South Wales   \n",
       "2   Craig Reiter   Consumer          NaN       Brisbane       Queensland   \n",
       "\n",
       "         Country  ...   Product ID    Category Sub-Category  \\\n",
       "0  United States  ...  TEC-PH-5816  Technology       Phones   \n",
       "1      Australia  ...  FUR-CH-5379   Furniture       Chairs   \n",
       "2      Australia  ...  TEC-PH-5356  Technology       Phones   \n",
       "\n",
       "                                Product Name Sales Quantity  Discount  Profit  \\\n",
       "0                           Samsung Convoy 3   221        2       0.0      62   \n",
       "1  Novimex Executive Leather Armchair, Black  3709        9       0.1     288   \n",
       "2          Nokia Smart Phone, with Caller ID  5175        9       0.1     919   \n",
       "\n",
       "   Shipping Cost  Order Priority  \n",
       "0          40.77            High  \n",
       "1         923.63        Critical  \n",
       "2         915.49          Medium  \n",
       "\n",
       "[3 rows x 22 columns]"
      ]
     },
     "execution_count": 65,
     "metadata": {},
     "output_type": "execute_result"
    }
   ],
   "source": [
    "global_store.head(3)"
   ]
  },
  {
   "cell_type": "code",
   "execution_count": 72,
   "metadata": {},
   "outputs": [],
   "source": [
    "cond=global_store[\"Shipping Cost\"]>500.00"
   ]
  },
  {
   "cell_type": "code",
   "execution_count": 73,
   "metadata": {
    "scrolled": true
   },
   "outputs": [
    {
     "data": {
      "text/html": [
       "<div>\n",
       "<style scoped>\n",
       "    .dataframe tbody tr th:only-of-type {\n",
       "        vertical-align: middle;\n",
       "    }\n",
       "\n",
       "    .dataframe tbody tr th {\n",
       "        vertical-align: top;\n",
       "    }\n",
       "\n",
       "    .dataframe thead th {\n",
       "        text-align: right;\n",
       "    }\n",
       "</style>\n",
       "<table border=\"1\" class=\"dataframe\">\n",
       "  <thead>\n",
       "    <tr style=\"text-align: right;\">\n",
       "      <th></th>\n",
       "      <th>Order ID</th>\n",
       "      <th>Order_Date</th>\n",
       "      <th>Ship_Date</th>\n",
       "      <th>Ship Mode</th>\n",
       "      <th>Customer Name</th>\n",
       "      <th>Segment</th>\n",
       "      <th>Pastal Code</th>\n",
       "      <th>City</th>\n",
       "      <th>State</th>\n",
       "      <th>Country</th>\n",
       "      <th>...</th>\n",
       "      <th>Product ID</th>\n",
       "      <th>Category</th>\n",
       "      <th>Sub-Category</th>\n",
       "      <th>Product Name</th>\n",
       "      <th>Sales</th>\n",
       "      <th>Quantity</th>\n",
       "      <th>Discount</th>\n",
       "      <th>Profit</th>\n",
       "      <th>Shipping Cost</th>\n",
       "      <th>Order Priority</th>\n",
       "    </tr>\n",
       "  </thead>\n",
       "  <tbody>\n",
       "    <tr>\n",
       "      <th>1</th>\n",
       "      <td>IN-2014-JR162107-41675</td>\n",
       "      <td>2014-02-05</td>\n",
       "      <td>2014-02-07</td>\n",
       "      <td>Second Class</td>\n",
       "      <td>Justin Ritter</td>\n",
       "      <td>Corporate</td>\n",
       "      <td>NaN</td>\n",
       "      <td>Wollongong</td>\n",
       "      <td>New South Wales</td>\n",
       "      <td>Australia</td>\n",
       "      <td>...</td>\n",
       "      <td>FUR-CH-5379</td>\n",
       "      <td>Furniture</td>\n",
       "      <td>Chairs</td>\n",
       "      <td>Novimex Executive Leather Armchair, Black</td>\n",
       "      <td>3709</td>\n",
       "      <td>9</td>\n",
       "      <td>0.1</td>\n",
       "      <td>288</td>\n",
       "      <td>923.63</td>\n",
       "      <td>Critical</td>\n",
       "    </tr>\n",
       "    <tr>\n",
       "      <th>2</th>\n",
       "      <td>IN-2014-CR127307-41929</td>\n",
       "      <td>2014-10-17</td>\n",
       "      <td>2014-10-18</td>\n",
       "      <td>First Class</td>\n",
       "      <td>Craig Reiter</td>\n",
       "      <td>Consumer</td>\n",
       "      <td>NaN</td>\n",
       "      <td>Brisbane</td>\n",
       "      <td>Queensland</td>\n",
       "      <td>Australia</td>\n",
       "      <td>...</td>\n",
       "      <td>TEC-PH-5356</td>\n",
       "      <td>Technology</td>\n",
       "      <td>Phones</td>\n",
       "      <td>Nokia Smart Phone, with Caller ID</td>\n",
       "      <td>5175</td>\n",
       "      <td>9</td>\n",
       "      <td>0.1</td>\n",
       "      <td>919</td>\n",
       "      <td>915.49</td>\n",
       "      <td>Medium</td>\n",
       "    </tr>\n",
       "    <tr>\n",
       "      <th>3</th>\n",
       "      <td>ES-2014-KM1637548-41667</td>\n",
       "      <td>2014-01-28</td>\n",
       "      <td>2014-01-30</td>\n",
       "      <td>First Class</td>\n",
       "      <td>Katherine Murray</td>\n",
       "      <td>Home Office</td>\n",
       "      <td>NaN</td>\n",
       "      <td>Berlin</td>\n",
       "      <td>Berlin</td>\n",
       "      <td>Germany</td>\n",
       "      <td>...</td>\n",
       "      <td>TEC-PH-5267</td>\n",
       "      <td>Technology</td>\n",
       "      <td>Phones</td>\n",
       "      <td>Motorola Smart Phone, Cordless</td>\n",
       "      <td>2892</td>\n",
       "      <td>5</td>\n",
       "      <td>0.1</td>\n",
       "      <td>96</td>\n",
       "      <td>910.16</td>\n",
       "      <td>Medium</td>\n",
       "    </tr>\n",
       "    <tr>\n",
       "      <th>4</th>\n",
       "      <td>SG-2014-RH9495111-41948</td>\n",
       "      <td>2014-11-05</td>\n",
       "      <td>2014-11-06</td>\n",
       "      <td>Same Day</td>\n",
       "      <td>Rick Hansen</td>\n",
       "      <td>Consumer</td>\n",
       "      <td>NaN</td>\n",
       "      <td>Dakar</td>\n",
       "      <td>Dakar</td>\n",
       "      <td>Senegal</td>\n",
       "      <td>...</td>\n",
       "      <td>TEC-CO-6011</td>\n",
       "      <td>Technology</td>\n",
       "      <td>Copiers</td>\n",
       "      <td>Sharp Wireless Fax, High-Speed</td>\n",
       "      <td>2832</td>\n",
       "      <td>8</td>\n",
       "      <td>0.0</td>\n",
       "      <td>311</td>\n",
       "      <td>903.04</td>\n",
       "      <td>Critical</td>\n",
       "    </tr>\n",
       "    <tr>\n",
       "      <th>5</th>\n",
       "      <td>IN-2014-JM156557-41818</td>\n",
       "      <td>2014-06-28</td>\n",
       "      <td>2014-07-01</td>\n",
       "      <td>Second Class</td>\n",
       "      <td>Jim Mitchum</td>\n",
       "      <td>Corporate</td>\n",
       "      <td>NaN</td>\n",
       "      <td>Sydney</td>\n",
       "      <td>New South Wales</td>\n",
       "      <td>Australia</td>\n",
       "      <td>...</td>\n",
       "      <td>TEC-PH-5842</td>\n",
       "      <td>Technology</td>\n",
       "      <td>Phones</td>\n",
       "      <td>Samsung Smart Phone, with Caller ID</td>\n",
       "      <td>2862</td>\n",
       "      <td>5</td>\n",
       "      <td>0.1</td>\n",
       "      <td>763</td>\n",
       "      <td>897.35</td>\n",
       "      <td>Critical</td>\n",
       "    </tr>\n",
       "  </tbody>\n",
       "</table>\n",
       "<p>5 rows × 22 columns</p>\n",
       "</div>"
      ],
      "text/plain": [
       "                  Order ID Order_Date  Ship_Date     Ship Mode  \\\n",
       "1   IN-2014-JR162107-41675 2014-02-05 2014-02-07  Second Class   \n",
       "2   IN-2014-CR127307-41929 2014-10-17 2014-10-18   First Class   \n",
       "3  ES-2014-KM1637548-41667 2014-01-28 2014-01-30   First Class   \n",
       "4  SG-2014-RH9495111-41948 2014-11-05 2014-11-06      Same Day   \n",
       "5   IN-2014-JM156557-41818 2014-06-28 2014-07-01  Second Class   \n",
       "\n",
       "      Customer Name      Segment  Pastal Code        City            State  \\\n",
       "1     Justin Ritter    Corporate          NaN  Wollongong  New South Wales   \n",
       "2      Craig Reiter     Consumer          NaN    Brisbane       Queensland   \n",
       "3  Katherine Murray  Home Office          NaN      Berlin           Berlin   \n",
       "4       Rick Hansen     Consumer          NaN       Dakar            Dakar   \n",
       "5       Jim Mitchum    Corporate          NaN      Sydney  New South Wales   \n",
       "\n",
       "     Country  ...   Product ID    Category Sub-Category  \\\n",
       "1  Australia  ...  FUR-CH-5379   Furniture       Chairs   \n",
       "2  Australia  ...  TEC-PH-5356  Technology       Phones   \n",
       "3    Germany  ...  TEC-PH-5267  Technology       Phones   \n",
       "4    Senegal  ...  TEC-CO-6011  Technology      Copiers   \n",
       "5  Australia  ...  TEC-PH-5842  Technology       Phones   \n",
       "\n",
       "                                Product Name Sales Quantity  Discount  Profit  \\\n",
       "1  Novimex Executive Leather Armchair, Black  3709        9       0.1     288   \n",
       "2          Nokia Smart Phone, with Caller ID  5175        9       0.1     919   \n",
       "3             Motorola Smart Phone, Cordless  2892        5       0.1      96   \n",
       "4             Sharp Wireless Fax, High-Speed  2832        8       0.0     311   \n",
       "5        Samsung Smart Phone, with Caller ID  2862        5       0.1     763   \n",
       "\n",
       "   Shipping Cost  Order Priority  \n",
       "1         923.63        Critical  \n",
       "2         915.49          Medium  \n",
       "3         910.16          Medium  \n",
       "4         903.04        Critical  \n",
       "5         897.35        Critical  \n",
       "\n",
       "[5 rows x 22 columns]"
      ]
     },
     "execution_count": 73,
     "metadata": {},
     "output_type": "execute_result"
    }
   ],
   "source": [
    "global_store[cond].head()"
   ]
  },
  {
   "cell_type": "code",
   "execution_count": 75,
   "metadata": {},
   "outputs": [
    {
     "data": {
      "text/plain": [
       "120"
      ]
     },
     "execution_count": 75,
     "metadata": {},
     "output_type": "execute_result"
    }
   ],
   "source": [
    "o=len(global_store[cond][\"Order ID\"])\n",
    "o#Orders with Shipping Cost >500"
   ]
  },
  {
   "cell_type": "code",
   "execution_count": 78,
   "metadata": {},
   "outputs": [
    {
     "name": "stdout",
     "output_type": "stream",
     "text": [
      "3\n"
     ]
    },
    {
     "data": {
      "text/plain": [
       "Consumer       26518\n",
       "Corporate      15429\n",
       "Home Office     9343\n",
       "Name: Segment, dtype: int64"
      ]
     },
     "execution_count": 78,
     "metadata": {},
     "output_type": "execute_result"
    }
   ],
   "source": [
    "print(len(global_store[\"Segment\"].value_counts()))\n",
    "global_store[\"Segment\"].value_counts()"
   ]
  },
  {
   "cell_type": "code",
   "execution_count": 79,
   "metadata": {},
   "outputs": [
    {
     "name": "stdout",
     "output_type": "stream",
     "text": [
      "165\n"
     ]
    },
    {
     "data": {
      "text/plain": [
       "United States    9994\n",
       "Australia        2837\n",
       "France           2827\n",
       "Mexico           2635\n",
       "Germany          2063\n",
       "                 ... \n",
       "Malawi              1\n",
       "Suriname            1\n",
       "The Gambia          1\n",
       "Kuwait              1\n",
       "Bhutan              1\n",
       "Name: Country, Length: 165, dtype: int64"
      ]
     },
     "execution_count": 79,
     "metadata": {},
     "output_type": "execute_result"
    }
   ],
   "source": [
    "print(len(global_store[\"Country\"].value_counts()))\n",
    "global_store[\"Country\"].value_counts()"
   ]
  },
  {
   "cell_type": "code",
   "execution_count": 80,
   "metadata": {},
   "outputs": [
    {
     "name": "stdout",
     "output_type": "stream",
     "text": [
      "23\n"
     ]
    },
    {
     "data": {
      "text/plain": [
       "Western Europe       5883\n",
       "Central America      5616\n",
       "Oceania              3487\n",
       "Western US           3203\n",
       "Southeastern Asia    3129\n",
       "South America        2988\n",
       "Eastern US           2848\n",
       "Southern Asia        2655\n",
       "Western Asia         2440\n",
       "Eastern Asia         2374\n",
       "Central US           2323\n",
       "Northern Europe      2204\n",
       "Southern Europe      2113\n",
       "Caribbean            1690\n",
       "Southern US          1620\n",
       "Eastern Europe       1529\n",
       "Western Africa       1460\n",
       "North Africa         1278\n",
       "Eastern Africa        728\n",
       "Central Africa        643\n",
       "Southern Africa       478\n",
       "Canada                384\n",
       "Central Asia          217\n",
       "Name: Region, dtype: int64"
      ]
     },
     "execution_count": 80,
     "metadata": {},
     "output_type": "execute_result"
    }
   ],
   "source": [
    "print(len(global_store[\"Region\"].value_counts()))\n",
    "global_store[\"Region\"].value_counts()"
   ]
  },
  {
   "cell_type": "code",
   "execution_count": 81,
   "metadata": {},
   "outputs": [
    {
     "name": "stdout",
     "output_type": "stream",
     "text": [
      "5\n"
     ]
    },
    {
     "data": {
      "text/plain": [
       "Asia Pacific    14302\n",
       "Europe          11729\n",
       "USCA            10378\n",
       "LATAM           10294\n",
       "Africa           4587\n",
       "Name: Market, dtype: int64"
      ]
     },
     "execution_count": 81,
     "metadata": {},
     "output_type": "execute_result"
    }
   ],
   "source": [
    "print(len(global_store[\"Market\"].value_counts()))\n",
    "global_store[\"Market\"].value_counts()"
   ]
  },
  {
   "cell_type": "code",
   "execution_count": 82,
   "metadata": {},
   "outputs": [
    {
     "name": "stdout",
     "output_type": "stream",
     "text": [
      "3\n"
     ]
    },
    {
     "data": {
      "text/plain": [
       "Office Supplies    31289\n",
       "Technology         10141\n",
       "Furniture           9860\n",
       "Name: Category, dtype: int64"
      ]
     },
     "execution_count": 82,
     "metadata": {},
     "output_type": "execute_result"
    }
   ],
   "source": [
    "print(len(global_store[\"Category\"].value_counts()))\n",
    "global_store[\"Category\"].value_counts()"
   ]
  },
  {
   "cell_type": "code",
   "execution_count": 83,
   "metadata": {},
   "outputs": [
    {
     "name": "stdout",
     "output_type": "stream",
     "text": [
      "17\n"
     ]
    },
    {
     "data": {
      "text/plain": [
       "Binders        6146\n",
       "Storage        5049\n",
       "Art            4864\n",
       "Paper          3492\n",
       "Chairs         3434\n",
       "Phones         3357\n",
       "Furnishings    3154\n",
       "Accessories    3075\n",
       "Labels         2601\n",
       "Fasteners      2601\n",
       "Bookcases      2411\n",
       "Supplies       2407\n",
       "Envelopes      2387\n",
       "Copiers        2223\n",
       "Appliances     1742\n",
       "Machines       1486\n",
       "Tables          861\n",
       "Name: Sub-Category, dtype: int64"
      ]
     },
     "execution_count": 83,
     "metadata": {},
     "output_type": "execute_result"
    }
   ],
   "source": [
    "print(len(global_store[\"Sub-Category\"].value_counts()))\n",
    "global_store[\"Sub-Category\"].value_counts()"
   ]
  },
  {
   "cell_type": "code",
   "execution_count": 91,
   "metadata": {},
   "outputs": [
    {
     "data": {
      "text/html": [
       "<div>\n",
       "<style scoped>\n",
       "    .dataframe tbody tr th:only-of-type {\n",
       "        vertical-align: middle;\n",
       "    }\n",
       "\n",
       "    .dataframe tbody tr th {\n",
       "        vertical-align: top;\n",
       "    }\n",
       "\n",
       "    .dataframe thead th {\n",
       "        text-align: right;\n",
       "    }\n",
       "</style>\n",
       "<table border=\"1\" class=\"dataframe\">\n",
       "  <thead>\n",
       "    <tr style=\"text-align: right;\">\n",
       "      <th></th>\n",
       "      <th>Order ID</th>\n",
       "      <th>Order_Date</th>\n",
       "      <th>Ship_Date</th>\n",
       "      <th>Ship Mode</th>\n",
       "      <th>Customer Name</th>\n",
       "      <th>Segment</th>\n",
       "      <th>Pastal Code</th>\n",
       "      <th>City</th>\n",
       "      <th>State</th>\n",
       "      <th>Country</th>\n",
       "      <th>...</th>\n",
       "      <th>Product ID</th>\n",
       "      <th>Category</th>\n",
       "      <th>Sub-Category</th>\n",
       "      <th>Product Name</th>\n",
       "      <th>Sales</th>\n",
       "      <th>Quantity</th>\n",
       "      <th>Discount</th>\n",
       "      <th>Profit</th>\n",
       "      <th>Shipping Cost</th>\n",
       "      <th>Order Priority</th>\n",
       "    </tr>\n",
       "  </thead>\n",
       "  <tbody>\n",
       "    <tr>\n",
       "      <th>41</th>\n",
       "      <td>IN-2015-BF1100558-42319</td>\n",
       "      <td>2015-11-11</td>\n",
       "      <td>2015-11-15</td>\n",
       "      <td>Standard Class</td>\n",
       "      <td>Barry Franz</td>\n",
       "      <td>Home Office</td>\n",
       "      <td>NaN</td>\n",
       "      <td>Gorakhpur</td>\n",
       "      <td>Haryana</td>\n",
       "      <td>India</td>\n",
       "      <td>...</td>\n",
       "      <td>TEC-PH-5269</td>\n",
       "      <td>Technology</td>\n",
       "      <td>Phones</td>\n",
       "      <td>Motorola Smart Phone, with Caller ID</td>\n",
       "      <td>4518</td>\n",
       "      <td>7</td>\n",
       "      <td>0.0</td>\n",
       "      <td>632</td>\n",
       "      <td>658.69</td>\n",
       "      <td>High</td>\n",
       "    </tr>\n",
       "    <tr>\n",
       "      <th>48</th>\n",
       "      <td>IN-2015-SW2027558-42125</td>\n",
       "      <td>2015-05-01</td>\n",
       "      <td>2015-05-01</td>\n",
       "      <td>Same Day</td>\n",
       "      <td>Scott Williamson</td>\n",
       "      <td>Consumer</td>\n",
       "      <td>NaN</td>\n",
       "      <td>Jamshedpur</td>\n",
       "      <td>Jharkhand</td>\n",
       "      <td>India</td>\n",
       "      <td>...</td>\n",
       "      <td>TEC-MA-5007</td>\n",
       "      <td>Technology</td>\n",
       "      <td>Machines</td>\n",
       "      <td>Konica Inkjet, White</td>\n",
       "      <td>2174</td>\n",
       "      <td>7</td>\n",
       "      <td>0.0</td>\n",
       "      <td>500</td>\n",
       "      <td>637.86</td>\n",
       "      <td>Critical</td>\n",
       "    </tr>\n",
       "    <tr>\n",
       "      <th>55</th>\n",
       "      <td>IN-2013-SG2047058-41424</td>\n",
       "      <td>2013-05-30</td>\n",
       "      <td>2013-05-31</td>\n",
       "      <td>First Class</td>\n",
       "      <td>Sheri Gordon</td>\n",
       "      <td>Consumer</td>\n",
       "      <td>NaN</td>\n",
       "      <td>Bhopal</td>\n",
       "      <td>Madhya Pradesh</td>\n",
       "      <td>India</td>\n",
       "      <td>...</td>\n",
       "      <td>TEC-CO-4590</td>\n",
       "      <td>Technology</td>\n",
       "      <td>Copiers</td>\n",
       "      <td>Hewlett Wireless Fax, Color</td>\n",
       "      <td>1526</td>\n",
       "      <td>4</td>\n",
       "      <td>0.0</td>\n",
       "      <td>732</td>\n",
       "      <td>625.77</td>\n",
       "      <td>Critical</td>\n",
       "    </tr>\n",
       "    <tr>\n",
       "      <th>90</th>\n",
       "      <td>IN-2013-GP1474058-41419</td>\n",
       "      <td>2013-05-25</td>\n",
       "      <td>2013-05-28</td>\n",
       "      <td>Second Class</td>\n",
       "      <td>Guy Phonely</td>\n",
       "      <td>Corporate</td>\n",
       "      <td>NaN</td>\n",
       "      <td>Delhi</td>\n",
       "      <td>Delhi</td>\n",
       "      <td>India</td>\n",
       "      <td>...</td>\n",
       "      <td>TEC-PH-5356</td>\n",
       "      <td>Technology</td>\n",
       "      <td>Phones</td>\n",
       "      <td>Nokia Smart Phone, with Caller ID</td>\n",
       "      <td>1916</td>\n",
       "      <td>3</td>\n",
       "      <td>0.0</td>\n",
       "      <td>498</td>\n",
       "      <td>548.40</td>\n",
       "      <td>Critical</td>\n",
       "    </tr>\n",
       "  </tbody>\n",
       "</table>\n",
       "<p>4 rows × 22 columns</p>\n",
       "</div>"
      ],
      "text/plain": [
       "                   Order ID Order_Date  Ship_Date       Ship Mode  \\\n",
       "41  IN-2015-BF1100558-42319 2015-11-11 2015-11-15  Standard Class   \n",
       "48  IN-2015-SW2027558-42125 2015-05-01 2015-05-01        Same Day   \n",
       "55  IN-2013-SG2047058-41424 2013-05-30 2013-05-31     First Class   \n",
       "90  IN-2013-GP1474058-41419 2013-05-25 2013-05-28    Second Class   \n",
       "\n",
       "       Customer Name      Segment  Pastal Code        City           State  \\\n",
       "41       Barry Franz  Home Office          NaN   Gorakhpur         Haryana   \n",
       "48  Scott Williamson     Consumer          NaN  Jamshedpur       Jharkhand   \n",
       "55      Sheri Gordon     Consumer          NaN      Bhopal  Madhya Pradesh   \n",
       "90       Guy Phonely    Corporate          NaN       Delhi           Delhi   \n",
       "\n",
       "   Country  ...   Product ID    Category Sub-Category  \\\n",
       "41   India  ...  TEC-PH-5269  Technology       Phones   \n",
       "48   India  ...  TEC-MA-5007  Technology     Machines   \n",
       "55   India  ...  TEC-CO-4590  Technology      Copiers   \n",
       "90   India  ...  TEC-PH-5356  Technology       Phones   \n",
       "\n",
       "                            Product Name Sales Quantity  Discount  Profit  \\\n",
       "41  Motorola Smart Phone, with Caller ID  4518        7       0.0     632   \n",
       "48                  Konica Inkjet, White  2174        7       0.0     500   \n",
       "55           Hewlett Wireless Fax, Color  1526        4       0.0     732   \n",
       "90     Nokia Smart Phone, with Caller ID  1916        3       0.0     498   \n",
       "\n",
       "    Shipping Cost  Order Priority  \n",
       "41         658.69            High  \n",
       "48         637.86        Critical  \n",
       "55         625.77        Critical  \n",
       "90         548.40        Critical  \n",
       "\n",
       "[4 rows x 22 columns]"
      ]
     },
     "execution_count": 91,
     "metadata": {},
     "output_type": "execute_result"
    }
   ],
   "source": [
    "conditions=(global_store[\"Country\"]==\"India\") & (global_store[\"Category\"]==\"Technology\") & (global_store[\"Shipping Cost\"]>500.00)\n",
    "indian_cust=global_store[conditions]\n",
    "indian_cust"
   ]
  },
  {
   "cell_type": "code",
   "execution_count": 94,
   "metadata": {},
   "outputs": [
    {
     "data": {
      "text/plain": [
       "41    IN-2015-BF1100558-42319\n",
       "48    IN-2015-SW2027558-42125\n",
       "55    IN-2013-SG2047058-41424\n",
       "90    IN-2013-GP1474058-41419\n",
       "Name: Order ID, dtype: object"
      ]
     },
     "execution_count": 94,
     "metadata": {},
     "output_type": "execute_result"
    }
   ],
   "source": [
    "indian_cust_id=indian_cust[\"Order ID\"]\n",
    "indian_cust_id"
   ]
  },
  {
   "cell_type": "code",
   "execution_count": 96,
   "metadata": {},
   "outputs": [
    {
     "data": {
      "text/plain": [
       "41       IN-2015-BF1100558-42319\n",
       "48       IN-2015-SW2027558-42125\n",
       "55       IN-2013-SG2047058-41424\n",
       "90       IN-2013-GP1474058-41419\n",
       "130      IN-2014-SV2081558-41968\n",
       "                  ...           \n",
       "13204    IN-2014-JR1621058-41850\n",
       "14874    IN-2013-ML1826558-41503\n",
       "23250    IN-2013-MA1799558-41565\n",
       "24316    IN-2012-DP1316558-41173\n",
       "35903    IN-2013-JS1568558-41371\n",
       "Name: Order ID, Length: 162, dtype: object"
      ]
     },
     "execution_count": 96,
     "metadata": {},
     "output_type": "execute_result"
    }
   ],
   "source": [
    "conditions=(global_store[\"Country\"]==\"India\") & (global_store[\"Category\"]==\"Technology\") & (global_store[\"Sales\"]>500.00)\n",
    "indian_cust=global_store[conditions][\"Order ID\"]\n",
    "indian_cust"
   ]
  },
  {
   "cell_type": "code",
   "execution_count": 97,
   "metadata": {},
   "outputs": [
    {
     "data": {
      "text/plain": [
       "21"
      ]
     },
     "execution_count": 97,
     "metadata": {},
     "output_type": "execute_result"
    }
   ],
   "source": [
    "condition=(global_store[\"State\"]==\"Karnataka\") & (global_store[\"Category\"]==\"Technology\")\n",
    "len(global_store[condition])"
   ]
  },
  {
   "cell_type": "code",
   "execution_count": 100,
   "metadata": {},
   "outputs": [
    {
     "data": {
      "text/html": [
       "<div>\n",
       "<style scoped>\n",
       "    .dataframe tbody tr th:only-of-type {\n",
       "        vertical-align: middle;\n",
       "    }\n",
       "\n",
       "    .dataframe tbody tr th {\n",
       "        vertical-align: top;\n",
       "    }\n",
       "\n",
       "    .dataframe thead th {\n",
       "        text-align: right;\n",
       "    }\n",
       "</style>\n",
       "<table border=\"1\" class=\"dataframe\">\n",
       "  <thead>\n",
       "    <tr style=\"text-align: right;\">\n",
       "      <th></th>\n",
       "      <th>Order ID</th>\n",
       "      <th>Order_Date</th>\n",
       "      <th>Ship_Date</th>\n",
       "      <th>Ship Mode</th>\n",
       "      <th>Customer Name</th>\n",
       "      <th>Segment</th>\n",
       "      <th>Pastal Code</th>\n",
       "      <th>City</th>\n",
       "      <th>State</th>\n",
       "      <th>Country</th>\n",
       "      <th>...</th>\n",
       "      <th>Product ID</th>\n",
       "      <th>Category</th>\n",
       "      <th>Sub-Category</th>\n",
       "      <th>Product Name</th>\n",
       "      <th>Sales</th>\n",
       "      <th>Quantity</th>\n",
       "      <th>Discount</th>\n",
       "      <th>Profit</th>\n",
       "      <th>Shipping Cost</th>\n",
       "      <th>Order Priority</th>\n",
       "    </tr>\n",
       "  </thead>\n",
       "  <tbody>\n",
       "    <tr>\n",
       "      <th>408</th>\n",
       "      <td>IN-2015-CY1274558-42300</td>\n",
       "      <td>2015-10-23</td>\n",
       "      <td>2015-10-25</td>\n",
       "      <td>First Class</td>\n",
       "      <td>Craig Yedwab</td>\n",
       "      <td>Corporate</td>\n",
       "      <td>NaN</td>\n",
       "      <td>Bangalore</td>\n",
       "      <td>Karnataka</td>\n",
       "      <td>India</td>\n",
       "      <td>...</td>\n",
       "      <td>TEC-CO-4578</td>\n",
       "      <td>Technology</td>\n",
       "      <td>Copiers</td>\n",
       "      <td>Hewlett Fax Machine, Laser</td>\n",
       "      <td>959</td>\n",
       "      <td>3</td>\n",
       "      <td>0.0</td>\n",
       "      <td>460</td>\n",
       "      <td>317.81</td>\n",
       "      <td>Critical</td>\n",
       "    </tr>\n",
       "    <tr>\n",
       "      <th>782</th>\n",
       "      <td>IN-2015-JW1522058-42101</td>\n",
       "      <td>2015-04-07</td>\n",
       "      <td>2015-04-12</td>\n",
       "      <td>Standard Class</td>\n",
       "      <td>Jane Waco</td>\n",
       "      <td>Corporate</td>\n",
       "      <td>NaN</td>\n",
       "      <td>Mangalore</td>\n",
       "      <td>Karnataka</td>\n",
       "      <td>India</td>\n",
       "      <td>...</td>\n",
       "      <td>TEC-PH-3807</td>\n",
       "      <td>Technology</td>\n",
       "      <td>Phones</td>\n",
       "      <td>Cisco Smart Phone, with Caller ID</td>\n",
       "      <td>3271</td>\n",
       "      <td>5</td>\n",
       "      <td>0.0</td>\n",
       "      <td>1341</td>\n",
       "      <td>232.45</td>\n",
       "      <td>High</td>\n",
       "    </tr>\n",
       "    <tr>\n",
       "      <th>1957</th>\n",
       "      <td>IN-2014-RA1928558-41863</td>\n",
       "      <td>2014-08-12</td>\n",
       "      <td>2014-08-16</td>\n",
       "      <td>Standard Class</td>\n",
       "      <td>Ralph Arnett</td>\n",
       "      <td>Consumer</td>\n",
       "      <td>NaN</td>\n",
       "      <td>Mangalore</td>\n",
       "      <td>Karnataka</td>\n",
       "      <td>India</td>\n",
       "      <td>...</td>\n",
       "      <td>TEC-CO-4791</td>\n",
       "      <td>Technology</td>\n",
       "      <td>Copiers</td>\n",
       "      <td>HP Wireless Fax, High-Speed</td>\n",
       "      <td>1075</td>\n",
       "      <td>3</td>\n",
       "      <td>0.0</td>\n",
       "      <td>344</td>\n",
       "      <td>136.45</td>\n",
       "      <td>High</td>\n",
       "    </tr>\n",
       "  </tbody>\n",
       "</table>\n",
       "<p>3 rows × 22 columns</p>\n",
       "</div>"
      ],
      "text/plain": [
       "                     Order ID Order_Date  Ship_Date       Ship Mode  \\\n",
       "408   IN-2015-CY1274558-42300 2015-10-23 2015-10-25     First Class   \n",
       "782   IN-2015-JW1522058-42101 2015-04-07 2015-04-12  Standard Class   \n",
       "1957  IN-2014-RA1928558-41863 2014-08-12 2014-08-16  Standard Class   \n",
       "\n",
       "     Customer Name    Segment  Pastal Code       City      State Country  ...  \\\n",
       "408   Craig Yedwab  Corporate          NaN  Bangalore  Karnataka   India  ...   \n",
       "782      Jane Waco  Corporate          NaN  Mangalore  Karnataka   India  ...   \n",
       "1957  Ralph Arnett   Consumer          NaN  Mangalore  Karnataka   India  ...   \n",
       "\n",
       "       Product ID    Category Sub-Category                       Product Name  \\\n",
       "408   TEC-CO-4578  Technology      Copiers         Hewlett Fax Machine, Laser   \n",
       "782   TEC-PH-3807  Technology       Phones  Cisco Smart Phone, with Caller ID   \n",
       "1957  TEC-CO-4791  Technology      Copiers        HP Wireless Fax, High-Speed   \n",
       "\n",
       "     Sales Quantity  Discount  Profit  Shipping Cost  Order Priority  \n",
       "408    959        3       0.0     460         317.81        Critical  \n",
       "782   3271        5       0.0    1341         232.45            High  \n",
       "1957  1075        3       0.0     344         136.45            High  \n",
       "\n",
       "[3 rows x 22 columns]"
      ]
     },
     "execution_count": 100,
     "metadata": {},
     "output_type": "execute_result"
    }
   ],
   "source": [
    "global_store[condition].head(3)"
   ]
  },
  {
   "cell_type": "code",
   "execution_count": 102,
   "metadata": {},
   "outputs": [
    {
     "data": {
      "text/plain": [
       "['Italy',\n",
       " 'India',\n",
       " 'Morocco',\n",
       " 'Netherlands',\n",
       " 'United Kingdom',\n",
       " 'Japan',\n",
       " 'Lithuania',\n",
       " 'Australia',\n",
       " 'Pakistan',\n",
       " 'United States']"
      ]
     },
     "execution_count": 102,
     "metadata": {},
     "output_type": "execute_result"
    }
   ],
   "source": [
    "condition=(global_store[\"Profit\"]>=2000) &(global_store[\"Shipping Cost\"]>=300)\n",
    "countries=global_store[condition][\"Country\"].drop_duplicates().tolist()\n",
    "countries"
   ]
  },
  {
   "cell_type": "code",
   "execution_count": 105,
   "metadata": {},
   "outputs": [
    {
     "name": "stdout",
     "output_type": "stream",
     "text": [
      "['Haryana', 'Jharkhand', 'Madhya Pradesh', 'Delhi', 'Gujarat', 'Bihar', 'Kerala', 'Chhattisgarh', 'Tamil Nadu', 'West Bengal', 'Maharashtra', 'Karnataka', 'Rajasthan', 'Uttar Pradesh', 'Andhra Pradesh', 'Telangana', 'Odisha', 'Punjab', 'Assam', 'Uttarakhand', 'Puducherry', 'Jammu and Kashmir']\n"
     ]
    },
    {
     "data": {
      "text/plain": [
       "22"
      ]
     },
     "execution_count": 105,
     "metadata": {},
     "output_type": "execute_result"
    }
   ],
   "source": [
    "condition=(global_store[\"Country\"]==\"India\") & (global_store[\"Category\"]==\"Technology\")\n",
    "indian_states=global_store[condition][\"State\"].drop_duplicates().tolist()\n",
    "print(indian_states)\n",
    "len(indian_states)"
   ]
  },
  {
   "cell_type": "code",
   "execution_count": 106,
   "metadata": {},
   "outputs": [],
   "source": [
    "#Indiaas Rank in Maximum profit and in category technology"
   ]
  },
  {
   "cell_type": "code",
   "execution_count": 124,
   "metadata": {},
   "outputs": [
    {
     "data": {
      "text/plain": [
       "(9915, 22)"
      ]
     },
     "execution_count": 124,
     "metadata": {},
     "output_type": "execute_result"
    }
   ],
   "source": [
    "condition=(global_store[\"Profit\"]>0) & (global_store[\"Category\"]==\"Technology\")\n",
    "top_countries=global_store[condition]\n",
    "top_countries.shape"
   ]
  },
  {
   "cell_type": "code",
   "execution_count": 125,
   "metadata": {},
   "outputs": [
    {
     "data": {
      "text/plain": [
       "49003    United States\n",
       "44248    United States\n",
       "11755    United States\n",
       "25238    United States\n",
       "6591            Turkey\n",
       "             ...      \n",
       "45055    United States\n",
       "46466        Venezuela\n",
       "31893    United States\n",
       "30799           Russia\n",
       "41207             Iraq\n",
       "Name: Country, Length: 9915, dtype: object"
      ]
     },
     "execution_count": 125,
     "metadata": {},
     "output_type": "execute_result"
    }
   ],
   "source": [
    "sorted_countries_profit=top_countries.sort_values(by=[\"Profit\"],ascending=False).drop_duplicates()\n",
    "sorted_countries_profit[\"Country\"]\n"
   ]
  },
  {
   "cell_type": "code",
   "execution_count": 137,
   "metadata": {},
   "outputs": [
    {
     "name": "stdout",
     "output_type": "stream",
     "text": [
      "145\n"
     ]
    },
    {
     "data": {
      "text/plain": [
       "49003    United States\n",
       "6591            Turkey\n",
       "362           Pakistan\n",
       "215              Japan\n",
       "313              India\n",
       "             ...      \n",
       "19592             Togo\n",
       "29037        Swaziland\n",
       "29689       Luxembourg\n",
       "33381        Sri Lanka\n",
       "5060           Bahrain\n",
       "Name: Country, Length: 145, dtype: object"
      ]
     },
     "execution_count": 137,
     "metadata": {},
     "output_type": "execute_result"
    }
   ],
   "source": [
    "list_topcountries=sorted_countries_profit[\"Country\"].drop_duplicates()\n",
    "print(len(list_topcountries))\n",
    "list_topcountries"
   ]
  },
  {
   "cell_type": "code",
   "execution_count": 136,
   "metadata": {},
   "outputs": [
    {
     "data": {
      "text/plain": [
       "49003      8.0\n",
       "6591      14.0\n",
       "362       49.0\n",
       "215       79.0\n",
       "313       87.0\n",
       "         ...  \n",
       "19592     17.0\n",
       "29037     25.0\n",
       "29689     69.0\n",
       "33381     27.0\n",
       "5060     137.0\n",
       "Name: Country, Length: 145, dtype: float64"
      ]
     },
     "execution_count": 136,
     "metadata": {},
     "output_type": "execute_result"
    }
   ],
   "source": [
    "ranked_data=sorted_countries_profit[\"Country\"].drop_duplicates().rank(ascending=False,method=\"average\")\n",
    "ranked_data"
   ]
  },
  {
   "cell_type": "code",
   "execution_count": 138,
   "metadata": {},
   "outputs": [
    {
     "data": {
      "text/html": [
       "<div>\n",
       "<style scoped>\n",
       "    .dataframe tbody tr th:only-of-type {\n",
       "        vertical-align: middle;\n",
       "    }\n",
       "\n",
       "    .dataframe tbody tr th {\n",
       "        vertical-align: top;\n",
       "    }\n",
       "\n",
       "    .dataframe thead th {\n",
       "        text-align: right;\n",
       "    }\n",
       "</style>\n",
       "<table border=\"1\" class=\"dataframe\">\n",
       "  <thead>\n",
       "    <tr style=\"text-align: right;\">\n",
       "      <th></th>\n",
       "      <th>Country</th>\n",
       "      <th>Country</th>\n",
       "    </tr>\n",
       "  </thead>\n",
       "  <tbody>\n",
       "    <tr>\n",
       "      <th>49003</th>\n",
       "      <td>8.0</td>\n",
       "      <td>United States</td>\n",
       "    </tr>\n",
       "    <tr>\n",
       "      <th>6591</th>\n",
       "      <td>14.0</td>\n",
       "      <td>Turkey</td>\n",
       "    </tr>\n",
       "    <tr>\n",
       "      <th>362</th>\n",
       "      <td>49.0</td>\n",
       "      <td>Pakistan</td>\n",
       "    </tr>\n",
       "    <tr>\n",
       "      <th>215</th>\n",
       "      <td>79.0</td>\n",
       "      <td>Japan</td>\n",
       "    </tr>\n",
       "    <tr>\n",
       "      <th>313</th>\n",
       "      <td>87.0</td>\n",
       "      <td>India</td>\n",
       "    </tr>\n",
       "    <tr>\n",
       "      <th>...</th>\n",
       "      <td>...</td>\n",
       "      <td>...</td>\n",
       "    </tr>\n",
       "    <tr>\n",
       "      <th>19592</th>\n",
       "      <td>17.0</td>\n",
       "      <td>Togo</td>\n",
       "    </tr>\n",
       "    <tr>\n",
       "      <th>29037</th>\n",
       "      <td>25.0</td>\n",
       "      <td>Swaziland</td>\n",
       "    </tr>\n",
       "    <tr>\n",
       "      <th>29689</th>\n",
       "      <td>69.0</td>\n",
       "      <td>Luxembourg</td>\n",
       "    </tr>\n",
       "    <tr>\n",
       "      <th>33381</th>\n",
       "      <td>27.0</td>\n",
       "      <td>Sri Lanka</td>\n",
       "    </tr>\n",
       "    <tr>\n",
       "      <th>5060</th>\n",
       "      <td>137.0</td>\n",
       "      <td>Bahrain</td>\n",
       "    </tr>\n",
       "  </tbody>\n",
       "</table>\n",
       "<p>145 rows × 2 columns</p>\n",
       "</div>"
      ],
      "text/plain": [
       "      Country        Country\n",
       "49003     8.0  United States\n",
       "6591     14.0         Turkey\n",
       "362      49.0       Pakistan\n",
       "215      79.0          Japan\n",
       "313      87.0          India\n",
       "...       ...            ...\n",
       "19592    17.0           Togo\n",
       "29037    25.0      Swaziland\n",
       "29689    69.0     Luxembourg\n",
       "33381    27.0      Sri Lanka\n",
       "5060    137.0        Bahrain\n",
       "\n",
       "[145 rows x 2 columns]"
      ]
     },
     "execution_count": 138,
     "metadata": {},
     "output_type": "execute_result"
    }
   ],
   "source": [
    "ranked_series=pd.concat([ranked_data,list_topcountries],axis=1)\n",
    "ranked_series"
   ]
  },
  {
   "cell_type": "code",
   "execution_count": 139,
   "metadata": {},
   "outputs": [
    {
     "data": {
      "text/plain": [
       "<pandas.core.groupby.generic.DataFrameGroupBy object at 0x000001B0DAFB0460>"
      ]
     },
     "execution_count": 139,
     "metadata": {},
     "output_type": "execute_result"
    }
   ],
   "source": [
    "group=global_store.groupby(by=[\"Country\",\"Category\",\"Sub-Category\"],as_index=True)\n",
    "group"
   ]
  },
  {
   "cell_type": "code",
   "execution_count": 141,
   "metadata": {},
   "outputs": [
    {
     "name": "stderr",
     "output_type": "stream",
     "text": [
      "<ipython-input-141-07035023af1b>:2: FutureWarning: Indexing with multiple keys (implicitly converted to a tuple of keys) will be deprecated, use a list instead.\n",
      "  group[\"Sales\",\"Profit\"].agg(functions)\n"
     ]
    },
    {
     "data": {
      "text/html": [
       "<div>\n",
       "<style scoped>\n",
       "    .dataframe tbody tr th:only-of-type {\n",
       "        vertical-align: middle;\n",
       "    }\n",
       "\n",
       "    .dataframe tbody tr th {\n",
       "        vertical-align: top;\n",
       "    }\n",
       "\n",
       "    .dataframe thead tr th {\n",
       "        text-align: left;\n",
       "    }\n",
       "\n",
       "    .dataframe thead tr:last-of-type th {\n",
       "        text-align: right;\n",
       "    }\n",
       "</style>\n",
       "<table border=\"1\" class=\"dataframe\">\n",
       "  <thead>\n",
       "    <tr>\n",
       "      <th></th>\n",
       "      <th></th>\n",
       "      <th></th>\n",
       "      <th colspan=\"4\" halign=\"left\">Sales</th>\n",
       "      <th colspan=\"4\" halign=\"left\">Profit</th>\n",
       "    </tr>\n",
       "    <tr>\n",
       "      <th></th>\n",
       "      <th></th>\n",
       "      <th></th>\n",
       "      <th>min_value</th>\n",
       "      <th>Max_value</th>\n",
       "      <th>mean_value</th>\n",
       "      <th>Std_value</th>\n",
       "      <th>min_value</th>\n",
       "      <th>Max_value</th>\n",
       "      <th>mean_value</th>\n",
       "      <th>Std_value</th>\n",
       "    </tr>\n",
       "    <tr>\n",
       "      <th>Country</th>\n",
       "      <th>Category</th>\n",
       "      <th>Sub-Category</th>\n",
       "      <th></th>\n",
       "      <th></th>\n",
       "      <th></th>\n",
       "      <th></th>\n",
       "      <th></th>\n",
       "      <th></th>\n",
       "      <th></th>\n",
       "      <th></th>\n",
       "    </tr>\n",
       "  </thead>\n",
       "  <tbody>\n",
       "    <tr>\n",
       "      <th rowspan=\"5\" valign=\"top\">Afghanistan</th>\n",
       "      <th rowspan=\"4\" valign=\"top\">Furniture</th>\n",
       "      <th>Bookcases</th>\n",
       "      <td>731</td>\n",
       "      <td>2070</td>\n",
       "      <td>1400.500000</td>\n",
       "      <td>946.815980</td>\n",
       "      <td>102</td>\n",
       "      <td>848</td>\n",
       "      <td>475.000000</td>\n",
       "      <td>527.501659</td>\n",
       "    </tr>\n",
       "    <tr>\n",
       "      <th>Chairs</th>\n",
       "      <td>417</td>\n",
       "      <td>914</td>\n",
       "      <td>665.500000</td>\n",
       "      <td>351.432070</td>\n",
       "      <td>45</td>\n",
       "      <td>356</td>\n",
       "      <td>200.500000</td>\n",
       "      <td>219.910209</td>\n",
       "    </tr>\n",
       "    <tr>\n",
       "      <th>Furnishings</th>\n",
       "      <td>84</td>\n",
       "      <td>219</td>\n",
       "      <td>134.500000</td>\n",
       "      <td>51.251341</td>\n",
       "      <td>1</td>\n",
       "      <td>79</td>\n",
       "      <td>32.333333</td>\n",
       "      <td>32.240761</td>\n",
       "    </tr>\n",
       "    <tr>\n",
       "      <th>Tables</th>\n",
       "      <td>267</td>\n",
       "      <td>4626</td>\n",
       "      <td>2113.333333</td>\n",
       "      <td>2254.599817</td>\n",
       "      <td>34</td>\n",
       "      <td>647</td>\n",
       "      <td>415.000000</td>\n",
       "      <td>332.555259</td>\n",
       "    </tr>\n",
       "    <tr>\n",
       "      <th>Office Supplies</th>\n",
       "      <th>Appliances</th>\n",
       "      <td>669</td>\n",
       "      <td>669</td>\n",
       "      <td>669.000000</td>\n",
       "      <td>NaN</td>\n",
       "      <td>280</td>\n",
       "      <td>280</td>\n",
       "      <td>280.000000</td>\n",
       "      <td>NaN</td>\n",
       "    </tr>\n",
       "    <tr>\n",
       "      <th>...</th>\n",
       "      <th>...</th>\n",
       "      <th>...</th>\n",
       "      <td>...</td>\n",
       "      <td>...</td>\n",
       "      <td>...</td>\n",
       "      <td>...</td>\n",
       "      <td>...</td>\n",
       "      <td>...</td>\n",
       "      <td>...</td>\n",
       "      <td>...</td>\n",
       "    </tr>\n",
       "    <tr>\n",
       "      <th rowspan=\"5\" valign=\"top\">Zimbabwe</th>\n",
       "      <th>Office Supplies</th>\n",
       "      <th>Supplies</th>\n",
       "      <td>10</td>\n",
       "      <td>66</td>\n",
       "      <td>37.833333</td>\n",
       "      <td>25.031314</td>\n",
       "      <td>12</td>\n",
       "      <td>55</td>\n",
       "      <td>37.166667</td>\n",
       "      <td>15.917496</td>\n",
       "    </tr>\n",
       "    <tr>\n",
       "      <th rowspan=\"4\" valign=\"top\">Technology</th>\n",
       "      <th>Accessories</th>\n",
       "      <td>77</td>\n",
       "      <td>77</td>\n",
       "      <td>77.000000</td>\n",
       "      <td>NaN</td>\n",
       "      <td>59</td>\n",
       "      <td>59</td>\n",
       "      <td>59.000000</td>\n",
       "      <td>NaN</td>\n",
       "    </tr>\n",
       "    <tr>\n",
       "      <th>Copiers</th>\n",
       "      <td>154</td>\n",
       "      <td>444</td>\n",
       "      <td>299.000000</td>\n",
       "      <td>205.060967</td>\n",
       "      <td>257</td>\n",
       "      <td>371</td>\n",
       "      <td>314.000000</td>\n",
       "      <td>80.610173</td>\n",
       "    </tr>\n",
       "    <tr>\n",
       "      <th>Machines</th>\n",
       "      <td>14</td>\n",
       "      <td>104</td>\n",
       "      <td>52.500000</td>\n",
       "      <td>42.696604</td>\n",
       "      <td>20</td>\n",
       "      <td>173</td>\n",
       "      <td>76.500000</td>\n",
       "      <td>72.958893</td>\n",
       "    </tr>\n",
       "    <tr>\n",
       "      <th>Phones</th>\n",
       "      <td>21</td>\n",
       "      <td>101</td>\n",
       "      <td>61.000000</td>\n",
       "      <td>56.568542</td>\n",
       "      <td>47</td>\n",
       "      <td>169</td>\n",
       "      <td>108.000000</td>\n",
       "      <td>86.267027</td>\n",
       "    </tr>\n",
       "  </tbody>\n",
       "</table>\n",
       "<p>2009 rows × 8 columns</p>\n",
       "</div>"
      ],
      "text/plain": [
       "                                             Sales                         \\\n",
       "                                         min_value Max_value   mean_value   \n",
       "Country     Category        Sub-Category                                    \n",
       "Afghanistan Furniture       Bookcases          731      2070  1400.500000   \n",
       "                            Chairs             417       914   665.500000   \n",
       "                            Furnishings         84       219   134.500000   \n",
       "                            Tables             267      4626  2113.333333   \n",
       "            Office Supplies Appliances         669       669   669.000000   \n",
       "...                                            ...       ...          ...   \n",
       "Zimbabwe    Office Supplies Supplies            10        66    37.833333   \n",
       "            Technology      Accessories         77        77    77.000000   \n",
       "                            Copiers            154       444   299.000000   \n",
       "                            Machines            14       104    52.500000   \n",
       "                            Phones              21       101    61.000000   \n",
       "\n",
       "                                                         Profit            \\\n",
       "                                            Std_value min_value Max_value   \n",
       "Country     Category        Sub-Category                                    \n",
       "Afghanistan Furniture       Bookcases      946.815980       102       848   \n",
       "                            Chairs         351.432070        45       356   \n",
       "                            Furnishings     51.251341         1        79   \n",
       "                            Tables        2254.599817        34       647   \n",
       "            Office Supplies Appliances            NaN       280       280   \n",
       "...                                               ...       ...       ...   \n",
       "Zimbabwe    Office Supplies Supplies        25.031314        12        55   \n",
       "            Technology      Accessories           NaN        59        59   \n",
       "                            Copiers        205.060967       257       371   \n",
       "                            Machines        42.696604        20       173   \n",
       "                            Phones          56.568542        47       169   \n",
       "\n",
       "                                                                  \n",
       "                                          mean_value   Std_value  \n",
       "Country     Category        Sub-Category                          \n",
       "Afghanistan Furniture       Bookcases     475.000000  527.501659  \n",
       "                            Chairs        200.500000  219.910209  \n",
       "                            Furnishings    32.333333   32.240761  \n",
       "                            Tables        415.000000  332.555259  \n",
       "            Office Supplies Appliances    280.000000         NaN  \n",
       "...                                              ...         ...  \n",
       "Zimbabwe    Office Supplies Supplies       37.166667   15.917496  \n",
       "            Technology      Accessories    59.000000         NaN  \n",
       "                            Copiers       314.000000   80.610173  \n",
       "                            Machines       76.500000   72.958893  \n",
       "                            Phones        108.000000   86.267027  \n",
       "\n",
       "[2009 rows x 8 columns]"
      ]
     },
     "execution_count": 141,
     "metadata": {},
     "output_type": "execute_result"
    }
   ],
   "source": [
    "functions=[(\"min_value\",\"min\"),(\"Max_value\",\"max\"),(\"mean_value\",\"mean\"),(\"Std_value\",\"std\")]\n",
    "group[\"Sales\",\"Profit\"].agg(functions)"
   ]
  },
  {
   "cell_type": "code",
   "execution_count": null,
   "metadata": {},
   "outputs": [],
   "source": []
  },
  {
   "cell_type": "code",
   "execution_count": null,
   "metadata": {},
   "outputs": [],
   "source": []
  },
  {
   "cell_type": "code",
   "execution_count": null,
   "metadata": {},
   "outputs": [],
   "source": []
  },
  {
   "cell_type": "code",
   "execution_count": null,
   "metadata": {},
   "outputs": [],
   "source": []
  },
  {
   "cell_type": "code",
   "execution_count": null,
   "metadata": {},
   "outputs": [],
   "source": []
  }
 ],
 "metadata": {
  "kernelspec": {
   "display_name": "Python 3",
   "language": "python",
   "name": "python3"
  },
  "language_info": {
   "codemirror_mode": {
    "name": "ipython",
    "version": 3
   },
   "file_extension": ".py",
   "mimetype": "text/x-python",
   "name": "python",
   "nbconvert_exporter": "python",
   "pygments_lexer": "ipython3",
   "version": "3.8.3"
  }
 },
 "nbformat": 4,
 "nbformat_minor": 4
}
